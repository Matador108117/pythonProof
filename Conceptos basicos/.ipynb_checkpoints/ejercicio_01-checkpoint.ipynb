{
 "cells": [
  {
   "cell_type": "markdown",
   "id": "2ee205a9-67eb-4833-b640-c621c414906b",
   "metadata": {},
   "source": [
    "Uriel Brenis Aguilar mi primer texto en jupyter"
   ]
  },
  {
   "cell_type": "code",
   "execution_count": null,
   "id": "86029bdc-9dbf-4e4f-ab43-d164019eb7f7",
   "metadata": {},
   "outputs": [],
   "source": [
    "lista = [80,90,70,100,85]\n",
    "promedio = sum(list)/ len(lista)\n",
    "print (promedio)"
   ]
  },
  {
   "cell_type": "code",
   "execution_count": 3,
   "id": "08e2ac06-dbb0-438e-ad79-5282739c508f",
   "metadata": {},
   "outputs": [
    {
     "ename": "KeyError",
     "evalue": "'calf'",
     "output_type": "error",
     "traceback": [
      "\u001b[31m---------------------------------------------------------------------------\u001b[39m",
      "\u001b[31mKeyError\u001b[39m                                  Traceback (most recent call last)",
      "\u001b[36mCell\u001b[39m\u001b[36m \u001b[39m\u001b[32mIn[3]\u001b[39m\u001b[32m, line 4\u001b[39m\n\u001b[32m      1\u001b[39m \u001b[38;5;28;01mimport\u001b[39;00m\u001b[38;5;250m \u001b[39m\u001b[34;01mmatplotlib\u001b[39;00m\u001b[34;01m.\u001b[39;00m\u001b[34;01mpyplot\u001b[39;00m\u001b[38;5;250m \u001b[39m\u001b[38;5;28;01mas\u001b[39;00m\u001b[38;5;250m \u001b[39m\u001b[34;01mplt\u001b[39;00m\n\u001b[32m      2\u001b[39m lista = [{\u001b[33m\"\u001b[39m\u001b[33mmateria\u001b[39m\u001b[33m\"\u001b[39m: \u001b[33m\"\u001b[39m\u001b[33mhistoria\u001b[39m\u001b[33m\"\u001b[39m, \u001b[33m\"\u001b[39m\u001b[33mcalf\u001b[39m\u001b[33m\"\u001b[39m:\u001b[32m90\u001b[39m}, {\u001b[33m\"\u001b[39m\u001b[33mmateria\u001b[39m\u001b[33m\"\u001b[39m:\u001b[33m\"\u001b[39m\u001b[33mmatematicas\u001b[39m\u001b[33m\"\u001b[39m,\u001b[33m\"\u001b[39m\u001b[33mcalificacion\u001b[39m\u001b[33m\"\u001b[39m:\u001b[32m75\u001b[39m },\n\u001b[32m      3\u001b[39m          {\u001b[33m\"\u001b[39m\u001b[33mmateria\u001b[39m\u001b[33m\"\u001b[39m: \u001b[33m\"\u001b[39m\u001b[33mingles\u001b[39m\u001b[33m\"\u001b[39m, \u001b[33m\"\u001b[39m\u001b[33mcalificacion\u001b[39m\u001b[33m\"\u001b[39m: \u001b[32m85\u001b[39m}]\n\u001b[32m----> \u001b[39m\u001b[32m4\u001b[39m plt.bar([fila[\u001b[33m\"\u001b[39m\u001b[33mmateria\u001b[39m\u001b[33m\"\u001b[39m] \u001b[38;5;28;01mfor\u001b[39;00m fila \u001b[38;5;129;01min\u001b[39;00m lista], [\u001b[38;5;28mint\u001b[39m(\u001b[43mfila\u001b[49m\u001b[43m[\u001b[49m\u001b[33;43m\"\u001b[39;49m\u001b[33;43mcalf\u001b[39;49m\u001b[33;43m\"\u001b[39;49m\u001b[43m]\u001b[49m) \u001b[38;5;28;01mfor\u001b[39;00m fila \u001b[38;5;129;01min\u001b[39;00m lista], colors=\u001b[33m\"\u001b[39m\u001b[33mskyblue\u001b[39m\u001b[33m\"\u001b[39m, edgecolor = \u001b[33m\"\u001b[39m\u001b[33mblack\u001b[39m\u001b[33m\"\u001b[39m )\n\u001b[32m      5\u001b[39m plt.title(\u001b[33m\"\u001b[39m\u001b[33mCalificaciones por materia\u001b[39m\u001b[33m\"\u001b[39m)\n\u001b[32m      6\u001b[39m plt.xlabel(\u001b[33m\"\u001b[39m\u001b[33mMateria\u001b[39m\u001b[33m\"\u001b[39m)\n",
      "\u001b[31mKeyError\u001b[39m: 'calf'"
     ]
    }
   ],
   "source": [
    "import matplotlib.pyplot as plt\n",
    "lista = [{\"materia\": \"historia\", \"calf\":90}, {\"materia\":\"matematicas\",\"calf\":75 },\n",
    "         {\"materia\": \"ingles\", \"calf\": 85}]\n",
    "plt.bar([fila[\"materia\"] for fila in lista], [int(fila[\"calf\"]) for fila in lista], colors=\"skyblue\", edgecolor = \"black\" )\n",
    "plt.title(\"Calificaciones por materia\")\n",
    "plt.xlabel(\"Materia\")\n",
    "plt.ylabel(\"Calificación\")\n"
   ]
  },
  {
   "cell_type": "code",
   "execution_count": null,
   "id": "853fbad9-8d89-46e2-87b8-e54dc9f4ff33",
   "metadata": {},
   "outputs": [],
   "source": []
  }
 ],
 "metadata": {
  "kernelspec": {
   "display_name": "Python 3 (ipykernel)",
   "language": "python",
   "name": "python3"
  },
  "language_info": {
   "codemirror_mode": {
    "name": "ipython",
    "version": 3
   },
   "file_extension": ".py",
   "mimetype": "text/x-python",
   "name": "python",
   "nbconvert_exporter": "python",
   "pygments_lexer": "ipython3",
   "version": "3.12.3"
  }
 },
 "nbformat": 4,
 "nbformat_minor": 5
}
