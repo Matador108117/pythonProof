{
 "cells": [
  {
   "cell_type": "code",
   "execution_count": 3,
   "id": "cb72d5e6-7cc0-4e0f-9a1f-6c0baee504a1",
   "metadata": {},
   "outputs": [],
   "source": [
    "import csv\n",
    "import matplotlib.pyplot as plt\n",
    "with open(\"bebidas.csv\", newline=\"\", encoding=\"utf-8\") as archivo:\n",
    "    lector = csv.DictReader(archivo)\n",
    "    datos = list(lector)"
   ]
  },
  {
   "cell_type": "code",
   "execution_count": 4,
   "id": "74370a0b-3882-4e45-b6cd-50d8137ec3e3",
   "metadata": {},
   "outputs": [
    {
     "ename": "ValueError",
     "evalue": "I/O operation on closed file.",
     "output_type": "error",
     "traceback": [
      "\u001b[31m---------------------------------------------------------------------------\u001b[39m",
      "\u001b[31mValueError\u001b[39m                                Traceback (most recent call last)",
      "\u001b[36mCell\u001b[39m\u001b[36m \u001b[39m\u001b[32mIn[4]\u001b[39m\u001b[32m, line 1\u001b[39m\n\u001b[32m----> \u001b[39m\u001b[32m1\u001b[39m datos = \u001b[38;5;28;43mlist\u001b[39;49m\u001b[43m(\u001b[49m\u001b[43mlector\u001b[49m\u001b[43m)\u001b[49m\n",
      "\u001b[36mFile \u001b[39m\u001b[32m~/miniconda3/envs/iamatplat/lib/python3.12/csv.py:115\u001b[39m, in \u001b[36mDictReader.__next__\u001b[39m\u001b[34m(self)\u001b[39m\n\u001b[32m    112\u001b[39m \u001b[38;5;28;01mdef\u001b[39;00m\u001b[38;5;250m \u001b[39m\u001b[34m__next__\u001b[39m(\u001b[38;5;28mself\u001b[39m):\n\u001b[32m    113\u001b[39m     \u001b[38;5;28;01mif\u001b[39;00m \u001b[38;5;28mself\u001b[39m.line_num == \u001b[32m0\u001b[39m:\n\u001b[32m    114\u001b[39m         \u001b[38;5;66;03m# Used only for its side effect.\u001b[39;00m\n\u001b[32m--> \u001b[39m\u001b[32m115\u001b[39m         \u001b[38;5;28;43mself\u001b[39;49m\u001b[43m.\u001b[49m\u001b[43mfieldnames\u001b[49m\n\u001b[32m    116\u001b[39m     row = \u001b[38;5;28mnext\u001b[39m(\u001b[38;5;28mself\u001b[39m.reader)\n\u001b[32m    117\u001b[39m     \u001b[38;5;28mself\u001b[39m.line_num = \u001b[38;5;28mself\u001b[39m.reader.line_num\n",
      "\u001b[36mFile \u001b[39m\u001b[32m~/miniconda3/envs/iamatplat/lib/python3.12/csv.py:102\u001b[39m, in \u001b[36mDictReader.fieldnames\u001b[39m\u001b[34m(self)\u001b[39m\n\u001b[32m    100\u001b[39m \u001b[38;5;28;01mif\u001b[39;00m \u001b[38;5;28mself\u001b[39m._fieldnames \u001b[38;5;129;01mis\u001b[39;00m \u001b[38;5;28;01mNone\u001b[39;00m:\n\u001b[32m    101\u001b[39m     \u001b[38;5;28;01mtry\u001b[39;00m:\n\u001b[32m--> \u001b[39m\u001b[32m102\u001b[39m         \u001b[38;5;28mself\u001b[39m._fieldnames = \u001b[38;5;28;43mnext\u001b[39;49m\u001b[43m(\u001b[49m\u001b[38;5;28;43mself\u001b[39;49m\u001b[43m.\u001b[49m\u001b[43mreader\u001b[49m\u001b[43m)\u001b[49m\n\u001b[32m    103\u001b[39m     \u001b[38;5;28;01mexcept\u001b[39;00m \u001b[38;5;167;01mStopIteration\u001b[39;00m:\n\u001b[32m    104\u001b[39m         \u001b[38;5;28;01mpass\u001b[39;00m\n",
      "\u001b[31mValueError\u001b[39m: I/O operation on closed file."
     ]
    }
   ],
   "source": [
    "bebidas = {fila[\"bebida\"]: int(fila[\"votos\"]) for fila in datos}"
   ]
  },
  {
   "cell_type": "code",
   "execution_count": null,
   "id": "07f63e07-4dc1-4a87-a507-522e619cf919",
   "metadata": {},
   "outputs": [],
   "source": [
    "mas_votada = max(bebidas, key=bebidas.get)\n",
    "menos_votada = min(bebidas, key=bebidas.get)"
   ]
  },
  {
   "cell_type": "code",
   "execution_count": 5,
   "id": "1ad6945a-16a7-419b-ad8f-958878d5f3f0",
   "metadata": {},
   "outputs": [
    {
     "ename": "NameError",
     "evalue": "name 'mas_votada' is not defined",
     "output_type": "error",
     "traceback": [
      "\u001b[31m---------------------------------------------------------------------------\u001b[39m",
      "\u001b[31mNameError\u001b[39m                                 Traceback (most recent call last)",
      "\u001b[36mCell\u001b[39m\u001b[36m \u001b[39m\u001b[32mIn[5]\u001b[39m\u001b[32m, line 1\u001b[39m\n\u001b[32m----> \u001b[39m\u001b[32m1\u001b[39m labels = [\u001b[43mmas_votada\u001b[49m, menos_votada]\n\u001b[32m      2\u001b[39m valores = [bebidas[mas_votada], bebidas[menos_votada]]\n\u001b[32m      4\u001b[39m plt.bar(labels, valores)\n",
      "\u001b[31mNameError\u001b[39m: name 'mas_votada' is not defined"
     ]
    }
   ],
   "source": [
    "labels = [mas_votada, menos_votada]\n",
    "valores = [bebidas[mas_votada], bebidas[menos_votada]]\n",
    "\n",
    "plt.bar(labels, valores)\n",
    "plt.title(\"Bebida más y menos votada\")\n",
    "plt.xlabel(\"Bebidas\")\n",
    "plt.ylabel(\"Votos\")\n",
    "plt.show()"
   ]
  },
  {
   "cell_type": "code",
   "execution_count": null,
   "id": "e8db6574-c17d-47f4-a7de-d3b9d8a2c632",
   "metadata": {},
   "outputs": [],
   "source": []
  }
 ],
 "metadata": {
  "kernelspec": {
   "display_name": "Python 3 (ipykernel)",
   "language": "python",
   "name": "python3"
  },
  "language_info": {
   "codemirror_mode": {
    "name": "ipython",
    "version": 3
   },
   "file_extension": ".py",
   "mimetype": "text/x-python",
   "name": "python",
   "nbconvert_exporter": "python",
   "pygments_lexer": "ipython3",
   "version": "3.12.3"
  }
 },
 "nbformat": 4,
 "nbformat_minor": 5
}
