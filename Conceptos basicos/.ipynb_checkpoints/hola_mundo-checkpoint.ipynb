{
 "cells": [
  {
   "cell_type": "markdown",
   "id": "2fa3403a-bfd4-4fda-98cd-442d10227d3c",
   "metadata": {},
   "source": [
    "Programa que muestre un texto en pantalla\n"
   ]
  },
  {
   "cell_type": "code",
   "execution_count": 1,
   "id": "dfd3dcac-23f2-44a9-b03d-96bb8042a8a7",
   "metadata": {},
   "outputs": [
    {
     "name": "stdout",
     "output_type": "stream",
     "text": [
      "Hola mundo desde jupyter notebook\n"
     ]
    }
   ],
   "source": [
    "print('Hola mundo desde jupyter notebook')"
   ]
  },
  {
   "cell_type": "raw",
   "id": "c1d49313-56e5-4a2b-acb7-5d2f986566d0",
   "metadata": {},
   "source": [
    "Estamos aprendiendo el uso de jupyter Notebook"
   ]
  },
  {
   "cell_type": "code",
   "execution_count": null,
   "id": "b1839783-3927-4cba-9f4f-9fa4290f7e81",
   "metadata": {},
   "outputs": [],
   "source": []
  }
 ],
 "metadata": {
  "kernelspec": {
   "display_name": "Python 3 (ipykernel)",
   "language": "python",
   "name": "python3"
  },
  "language_info": {
   "codemirror_mode": {
    "name": "ipython",
    "version": 3
   },
   "file_extension": ".py",
   "mimetype": "text/x-python",
   "name": "python",
   "nbconvert_exporter": "python",
   "pygments_lexer": "ipython3",
   "version": "3.12.3"
  }
 },
 "nbformat": 4,
 "nbformat_minor": 5
}
