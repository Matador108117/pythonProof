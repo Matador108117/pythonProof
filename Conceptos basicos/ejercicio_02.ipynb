{
 "cells": [
  {
   "cell_type": "markdown",
   "id": "2c1e20a0-9660-46d6-8d85-ee6f5ff085ef",
   "metadata": {},
   "source": [
    "¿Que es Jupyter y para que se utiliza?"
   ]
  },
  {
   "cell_type": "markdown",
   "id": "3f448205-ffc2-4105-aaf6-1f47198a2324",
   "metadata": {},
   "source": [
    "Jupyter notebook es es una aplicación web y un entorno de código abierto que permite crear y compartir documentos interactivos llamados libretas, donde estos combinan codigo en conjunto con texto narrativo, utilizado principalmente en ciencia de datos"
   ]
  },
  {
   "cell_type": "markdown",
   "id": "b3ee6d53-74b2-4803-9c52-9f77b4d12064",
   "metadata": {},
   "source": [
    "Que diferencia hay entre Jupyter notebook y Jupyter lab"
   ]
  },
  {
   "cell_type": "markdown",
   "id": "240f20ce-d0b8-460d-866d-92f30ee1f522",
   "metadata": {},
   "source": [
    "Jupyter lab es la modersnizacion de jupyter notebook donde ya integra JupyterLab integra todas las funcionalidades en una única ventana (como trabajar con múltiples notebooks, terminales y visualizadores de archivos), "
   ]
  },
  {
   "cell_type": "markdown",
   "id": "4dc64905-851b-4275-9ce3-84f98cefcec5",
   "metadata": {},
   "source": [
    "¿Que es un kernel en Jupyter?"
   ]
  },
  {
   "cell_type": "markdown",
   "id": "27920e13-da48-47f3-9737-9877ac8f4e2c",
   "metadata": {},
   "source": [
    "Es el motor o proceso que ejecuta el código de una libreta en un lenguaje específico, como Python, R, o Julia, devolviendo los resultados al usuario"
   ]
  },
  {
   "cell_type": "markdown",
   "id": "2ef17d95-3f17-48e4-aab3-19de8d724856",
   "metadata": {},
   "source": [
    "¿Que tipo de celdas existen en Jupyter notebook?"
   ]
  },
  {
   "cell_type": "markdown",
   "id": "77fe5e19-e2ce-4f52-8453-f7a77975c5a5",
   "metadata": {},
   "source": [
    "code: donde se escribe el codigo\n",
    "markdown: donde se puede colocar texto formateado\n",
    "raw: donde se puede colocar son para texto no formateado"
   ]
  },
  {
   "cell_type": "markdown",
   "id": "2fcb23e0-94b4-4640-b1b0-57ab0cbfd38d",
   "metadata": {},
   "source": [
    "¿Para que sirve un checkpoint?"
   ]
  },
  {
   "cell_type": "markdown",
   "id": "a218e9f5-01d9-42eb-9112-6125567d813e",
   "metadata": {},
   "source": [
    "Los puntos de control en Jupyter Notebook funcionan como un punto de guardado para el trabajo desarrollado en una libreta"
   ]
  },
  {
   "cell_type": "markdown",
   "id": "33ad6b9c-84c6-409b-86ad-28c7912307e6",
   "metadata": {},
   "source": [
    "¿Que extension de archivo tienen las notebooks en jupyter?"
   ]
  },
  {
   "cell_type": "markdown",
   "id": "060b1577-6625-4bec-9dd6-9e1ea28a55ce",
   "metadata": {},
   "source": [
    "Tienen la extension .ipynb"
   ]
  },
  {
   "cell_type": "markdown",
   "id": "cd827adf-5708-4756-91ab-73bef19f0c07",
   "metadata": {},
   "source": [
    "¿Que combinacion de teclas se utiliza para ejecutar una celda?"
   ]
  },
  {
   "cell_type": "markdown",
   "id": "4e3bcf3c-2d40-4aa9-a87a-b1ec459700d1",
   "metadata": {},
   "source": [
    "crtl + enter "
   ]
  },
  {
   "cell_type": "markdown",
   "id": "b65fb136-79d1-4062-8bcf-ae97b5916a16",
   "metadata": {},
   "source": [
    "¿Cual es la diferencia entre una celda makdown y una celda de codigo?\n"
   ]
  },
  {
   "cell_type": "markdown",
   "id": "baab12e6-e254-4101-80fb-d16aa1af23d7",
   "metadata": {},
   "source": [
    "Las celdas markdown son utilizadas para hacer escribir texto con formato, util para hacer descripciones mientras que la celdas de codigo son las que el kernel de jupyter ejecuta en un lenguaje de programacion"
   ]
  }
 ],
 "metadata": {
  "kernelspec": {
   "display_name": "Python 3 (ipykernel)",
   "language": "python",
   "name": "python3"
  },
  "language_info": {
   "codemirror_mode": {
    "name": "ipython",
    "version": 3
   },
   "file_extension": ".py",
   "mimetype": "text/x-python",
   "name": "python",
   "nbconvert_exporter": "python",
   "pygments_lexer": "ipython3",
   "version": "3.12.3"
  }
 },
 "nbformat": 4,
 "nbformat_minor": 5
}
